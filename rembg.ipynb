{
  "nbformat": 4,
  "nbformat_minor": 0,
  "metadata": {
    "colab": {
      "provenance": [],
      "gpuType": "T4"
    },
    "kernelspec": {
      "name": "python3",
      "display_name": "Python 3"
    },
    "language_info": {
      "name": "python"
    },
    "accelerator": "GPU"
  },
  "cells": [
    {
      "cell_type": "code",
      "execution_count": 3,
      "metadata": {
        "colab": {
          "base_uri": "https://localhost:8080/"
        },
        "id": "hF9llNyHkiRB",
        "outputId": "bd4e1cc0-f871-4c3f-d6e3-b503fe170f71"
      },
      "outputs": [
      ],
      "source": [
        "! pip install \"rembg[gpu,cli]\"\n",
        "! git clone https://github.com/danielgatis/rembg.git"
      ]
    },
    {
      "cell_type": "code",
      "source": [
        "cd rembg/"
      ],
      "metadata": {
        "colab": {
          "base_uri": "https://localhost:8080/"
        },
        "id": "Eu-NvAFeyKIX",
        "outputId": "d7cce54f-e3b7-4879-8313-c23c432d324b"
      },
      "execution_count": 4,
      "outputs": [
        {
          "output_type": "stream",
          "name": "stdout",
          "text": [
            "/content/rembg\n"
          ]
        }
      ]
    },
    {
      "cell_type": "code",
      "source": [
        "! wget https://huggingface.co/spaces/KenjieDec/RemBG/resolve/main/app.py\n"
      ],
      "metadata": {
        "colab": {
          "base_uri": "https://localhost:8080/"
        },
        "id": "pHhQCQvDy2yv",
        "outputId": "96c28494-4bcf-4574-dccc-5345f28ec5e5"
      },
      "execution_count": 5,
      "outputs": [
      ]
    },
    {
      "cell_type": "code",
      "source": [
        "!python app.py --share"
      ],
      "metadata": {
        "colab": {
          "base_uri": "https://localhost:8080/"
        },
        "id": "exMGiaIruPIp",
        "outputId": "660061fd-7df9-4516-cae9-83194c16e50c"
      },
      "execution_count": null,
      "outputs": [
      ]
    }
  ]
}
